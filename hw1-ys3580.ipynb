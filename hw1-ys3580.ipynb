{
 "cells": [
  {
   "cell_type": "code",
   "execution_count": 2,
   "id": "64237f70-e254-4ab0-b79c-1ebc63753864",
   "metadata": {},
   "outputs": [],
   "source": [
    "from flask import Flask, jsonify\n",
    "import pandas as pd\n",
    "import json\n"
   ]
  },
  {
   "cell_type": "code",
   "execution_count": 3,
   "id": "c91a2a58-65d0-4000-a734-8247774379c9",
   "metadata": {},
   "outputs": [],
   "source": [
    "df = pd.read_csv(r\"C:\\Users\\ycson\\Untitled Folder\\crunchbase_odm_orgs.csv\")"
   ]
  },
  {
   "cell_type": "code",
   "execution_count": 4,
   "id": "b5507e61-dbbc-4e37-9d9f-7a8509de9a5b",
   "metadata": {},
   "outputs": [
    {
     "name": "stdout",
     "output_type": "stream",
     "text": [
      "                                         uuid  \\\n",
      "0        e1393508-30ea-8a36-3f96-dd3226033abd   \n",
      "1        bf4d7b0e-b34d-2fd8-d292-6049c4f7efc7   \n",
      "2        5f2b40b8-d1b3-d323-d81a-b7a8e89553d0   \n",
      "3        df662812-7f97-0b43-9d3e-12f64f504fbb   \n",
      "4        b08efc27-da40-505a-6f9d-c9e14247bf36   \n",
      "...                                       ...   \n",
      "1127653  3268e36f-1e88-4276-864f-7dfdd958be5e   \n",
      "1127654  6f8fd264-7a7d-4fd7-9679-cbdd5cca5e5d   \n",
      "1127655  9ce6e5d1-8e02-4425-964e-b21bbc619528   \n",
      "1127656  acf6dc5a-0722-44bb-bd16-6a1b6406d3ed   \n",
      "1127657  b37e067c-28a6-4422-826c-4e56b5190458   \n",
      "\n",
      "                                         name          type primary_role  \\\n",
      "0                                    Wetpaint  organization      company   \n",
      "1                                        Zoho  organization      company   \n",
      "2                                        Digg  organization      company   \n",
      "3                                    Facebook  organization      company   \n",
      "4                                       Accel  organization     investor   \n",
      "...                                       ...           ...          ...   \n",
      "1127653  California Energy Consultant Service  organization      company   \n",
      "1127654                         All Pro Media  organization      company   \n",
      "1127655                                 Jeetk  organization      company   \n",
      "1127656                            RepsBridge  organization      company   \n",
      "1127657                           Eco-Stylist  organization      company   \n",
      "\n",
      "                                                    cb_url  \\\n",
      "0        https://www.crunchbase.com/organization/wetpai...   \n",
      "1        https://www.crunchbase.com/organization/zoho?u...   \n",
      "2        https://www.crunchbase.com/organization/digg?u...   \n",
      "3        https://www.crunchbase.com/organization/facebo...   \n",
      "4        https://www.crunchbase.com/organization/accel?...   \n",
      "...                                                    ...   \n",
      "1127653  https://www.crunchbase.com/organization/califo...   \n",
      "1127654  https://www.crunchbase.com/organization/all-pr...   \n",
      "1127655  https://www.crunchbase.com/organization/jeetk?...   \n",
      "1127656  https://www.crunchbase.com/organization/repsbr...   \n",
      "1127657  https://www.crunchbase.com/organization/eco-st...   \n",
      "\n",
      "                         domain                         homepage_url  \\\n",
      "0                  wetpaint.com             http://www.wetpaint.com/   \n",
      "1                      zoho.com                https://www.zoho.com/   \n",
      "2                      digg.com                  http://www.digg.com   \n",
      "3                  facebook.com              http://www.facebook.com   \n",
      "4                     accel.com                 http://www.accel.com   \n",
      "...                         ...                                  ...   \n",
      "1127653  calenergyexteriors.com  https://www.calenergyexteriors.com/   \n",
      "1127654         allpromedia.com             https://allpromedia.com/   \n",
      "1127655               jeetk.net                   https://jeetk.net/   \n",
      "1127656          repsbridge.com          https://www.repsbridge.com/   \n",
      "1127657         eco-stylist.com         https://www.eco-stylist.com/   \n",
      "\n",
      "                                                  logo_url  \\\n",
      "0        https://res.cloudinary.com/crunchbase-producti...   \n",
      "1        https://res.cloudinary.com/crunchbase-producti...   \n",
      "2        https://res.cloudinary.com/crunchbase-producti...   \n",
      "3        https://res.cloudinary.com/crunchbase-producti...   \n",
      "4        https://res.cloudinary.com/crunchbase-producti...   \n",
      "...                                                    ...   \n",
      "1127653  https://res.cloudinary.com/crunchbase-producti...   \n",
      "1127654  https://res.cloudinary.com/crunchbase-producti...   \n",
      "1127655  https://res.cloudinary.com/crunchbase-producti...   \n",
      "1127656  https://res.cloudinary.com/crunchbase-producti...   \n",
      "1127657  https://res.cloudinary.com/crunchbase-producti...   \n",
      "\n",
      "                                           facebook_url  \\\n",
      "0                     https://www.facebook.com/Wetpaint   \n",
      "1                          http://www.facebook.com/zoho   \n",
      "2                          http://www.facebook.com/digg   \n",
      "3                    https://www.facebook.com/facebook/   \n",
      "4                         http://www.facebook.com/accel   \n",
      "...                                                 ...   \n",
      "1127653  https://www.facebook.com/SuperCalEnergyForYou/   \n",
      "1127654            https://www.facebook.com/allpromedia   \n",
      "1127655                                             NaN   \n",
      "1127656             https://www.facebook.com/RepsBridge   \n",
      "1127657        https://www.facebook.com/yourecostylist/   \n",
      "\n",
      "                                      twitter_url  \\\n",
      "0                  https://twitter.com/wetpainttv   \n",
      "1                         http://twitter.com/zoho   \n",
      "2                         http://twitter.com/digg   \n",
      "3                    https://twitter.com/facebook   \n",
      "4                        http://twitter.com/accel   \n",
      "...                                           ...   \n",
      "1127653  https://www.twitter.com/@CalEnergyHeroes   \n",
      "1127654      https://www.twitter.com/@allpromedia   \n",
      "1127655                                       NaN   \n",
      "1127656            https://twitter.com/RepsBridge   \n",
      "1127657        https://twitter.com/yourecostylist   \n",
      "\n",
      "                                              linkedin_url  \\\n",
      "0                https://www.linkedin.com/company/wetpaint   \n",
      "1        http://www.linkedin.com/company/zoho-corporati...   \n",
      "2                     http://www.linkedin.com/company/digg   \n",
      "3                 http://www.linkedin.com/company/facebook   \n",
      "4               https://www.linkedin.com/company/accel-vc/   \n",
      "...                                                    ...   \n",
      "1127653  https://www.linkedin.com/company/california-en...   \n",
      "1127654    https://www.linkedin.com/company/all-pro-media/   \n",
      "1127655             https://www.linkedin.com/company/jeetk   \n",
      "1127656        https://www.linkedin.com/company/recsbridge   \n",
      "1127657       https://www.linkedin.com/company/eco-stylist   \n",
      "\n",
      "        combined_stock_symbols            city          region country_code  \\\n",
      "0                          NaN        New York        New York          USA   \n",
      "1                          NaN      Pleasanton      California          USA   \n",
      "2                          NaN        New York        New York          USA   \n",
      "3                    nasdaq:FB      Menlo Park      California          USA   \n",
      "4                          NaN       Palo Alto      California          USA   \n",
      "...                        ...             ...             ...          ...   \n",
      "1127653                    NaN  Rancho Cordova      California          USA   \n",
      "1127654                    NaN      Burlington  North Carolina          USA   \n",
      "1127655                    NaN           Karak        Al Karak          JOR   \n",
      "1127656                    NaN   San Francisco      California          USA   \n",
      "1127657                    NaN         Phoenix         Arizona          USA   \n",
      "\n",
      "                                         short_description  \n",
      "0        Wetpaint offers an online social publishing pl...  \n",
      "1        Zoho offers a suite of business, collaboration...  \n",
      "2        Digg Inc. operates a website that enables its ...  \n",
      "3        Facebook is an online social networking servic...  \n",
      "4        Accel is an early and growth-stage venture cap...  \n",
      "...                                                    ...  \n",
      "1127653  CECS specializes in high quality replacement w...  \n",
      "1127654  All Pro Media, Inc. provides video production,...  \n",
      "1127655                                      Delivery Food  \n",
      "1127656                                               SaaS  \n",
      "1127657  The trusted marketplace for stylish and sustai...  \n",
      "\n",
      "[1127657 rows x 16 columns]\n"
     ]
    }
   ],
   "source": [
    "df.dropna(subset=[\"name\"], inplace=True)\n",
    "print(df)"
   ]
  },
  {
   "cell_type": "code",
   "execution_count": 6,
   "id": "89722f56-bd09-4fd2-8848-cd78624be5eb",
   "metadata": {},
   "outputs": [
    {
     "name": "stdout",
     "output_type": "stream",
     "text": [
      "Number of records: 1127657\n",
      "First 5 records:\n",
      "                                   uuid      name          type primary_role  \\\n",
      "0  e1393508-30ea-8a36-3f96-dd3226033abd  Wetpaint  organization      company   \n",
      "1  bf4d7b0e-b34d-2fd8-d292-6049c4f7efc7      Zoho  organization      company   \n",
      "2  5f2b40b8-d1b3-d323-d81a-b7a8e89553d0      Digg  organization      company   \n",
      "3  df662812-7f97-0b43-9d3e-12f64f504fbb  Facebook  organization      company   \n",
      "4  b08efc27-da40-505a-6f9d-c9e14247bf36     Accel  organization     investor   \n",
      "\n",
      "                                              cb_url        domain  \\\n",
      "0  https://www.crunchbase.com/organization/wetpai...  wetpaint.com   \n",
      "1  https://www.crunchbase.com/organization/zoho?u...      zoho.com   \n",
      "2  https://www.crunchbase.com/organization/digg?u...      digg.com   \n",
      "3  https://www.crunchbase.com/organization/facebo...  facebook.com   \n",
      "4  https://www.crunchbase.com/organization/accel?...     accel.com   \n",
      "\n",
      "               homepage_url  \\\n",
      "0  http://www.wetpaint.com/   \n",
      "1     https://www.zoho.com/   \n",
      "2       http://www.digg.com   \n",
      "3   http://www.facebook.com   \n",
      "4      http://www.accel.com   \n",
      "\n",
      "                                            logo_url  \\\n",
      "0  https://res.cloudinary.com/crunchbase-producti...   \n",
      "1  https://res.cloudinary.com/crunchbase-producti...   \n",
      "2  https://res.cloudinary.com/crunchbase-producti...   \n",
      "3  https://res.cloudinary.com/crunchbase-producti...   \n",
      "4  https://res.cloudinary.com/crunchbase-producti...   \n",
      "\n",
      "                         facebook_url                     twitter_url  \\\n",
      "0   https://www.facebook.com/Wetpaint  https://twitter.com/wetpainttv   \n",
      "1        http://www.facebook.com/zoho         http://twitter.com/zoho   \n",
      "2        http://www.facebook.com/digg         http://twitter.com/digg   \n",
      "3  https://www.facebook.com/facebook/    https://twitter.com/facebook   \n",
      "4       http://www.facebook.com/accel        http://twitter.com/accel   \n",
      "\n",
      "                                        linkedin_url combined_stock_symbols  \\\n",
      "0          https://www.linkedin.com/company/wetpaint                    NaN   \n",
      "1  http://www.linkedin.com/company/zoho-corporati...                    NaN   \n",
      "2               http://www.linkedin.com/company/digg                    NaN   \n",
      "3           http://www.linkedin.com/company/facebook              nasdaq:FB   \n",
      "4         https://www.linkedin.com/company/accel-vc/                    NaN   \n",
      "\n",
      "         city      region country_code  \\\n",
      "0    New York    New York          USA   \n",
      "1  Pleasanton  California          USA   \n",
      "2    New York    New York          USA   \n",
      "3  Menlo Park  California          USA   \n",
      "4   Palo Alto  California          USA   \n",
      "\n",
      "                                   short_description  \n",
      "0  Wetpaint offers an online social publishing pl...  \n",
      "1  Zoho offers a suite of business, collaboration...  \n",
      "2  Digg Inc. operates a website that enables its ...  \n",
      "3  Facebook is an online social networking servic...  \n",
      "4  Accel is an early and growth-stage venture cap...  \n"
     ]
    }
   ],
   "source": [
    "print(\"Number of records:\", df.shape[0])\n",
    "print(\"First 5 records:\")\n",
    "print(df.head())"
   ]
  },
  {
   "cell_type": "code",
   "execution_count": 7,
   "id": "f0649223-e483-47ca-8405-5a6dd2c577cf",
   "metadata": {},
   "outputs": [
    {
     "name": "stdout",
     "output_type": "stream",
     "text": [
      "                                         uuid  \\\n",
      "0        e1393508-30ea-8a36-3f96-dd3226033abd   \n",
      "1        bf4d7b0e-b34d-2fd8-d292-6049c4f7efc7   \n",
      "2        5f2b40b8-d1b3-d323-d81a-b7a8e89553d0   \n",
      "3        df662812-7f97-0b43-9d3e-12f64f504fbb   \n",
      "4        b08efc27-da40-505a-6f9d-c9e14247bf36   \n",
      "...                                       ...   \n",
      "1127653  3268e36f-1e88-4276-864f-7dfdd958be5e   \n",
      "1127654  6f8fd264-7a7d-4fd7-9679-cbdd5cca5e5d   \n",
      "1127655  9ce6e5d1-8e02-4425-964e-b21bbc619528   \n",
      "1127656  acf6dc5a-0722-44bb-bd16-6a1b6406d3ed   \n",
      "1127657  b37e067c-28a6-4422-826c-4e56b5190458   \n",
      "\n",
      "                                         name          type primary_role  \\\n",
      "0                                    Wetpaint  organization      company   \n",
      "1                                        Zoho  organization      company   \n",
      "2                                        Digg  organization      company   \n",
      "3                                    Facebook  organization      company   \n",
      "4                                       Accel  organization     investor   \n",
      "...                                       ...           ...          ...   \n",
      "1127653  California Energy Consultant Service  organization      company   \n",
      "1127654                         All Pro Media  organization      company   \n",
      "1127655                                 Jeetk  organization      company   \n",
      "1127656                            RepsBridge  organization      company   \n",
      "1127657                           Eco-Stylist  organization      company   \n",
      "\n",
      "                                                    cb_url  \\\n",
      "0        https://www.crunchbase.com/organization/wetpai...   \n",
      "1        https://www.crunchbase.com/organization/zoho?u...   \n",
      "2        https://www.crunchbase.com/organization/digg?u...   \n",
      "3        https://www.crunchbase.com/organization/facebo...   \n",
      "4        https://www.crunchbase.com/organization/accel?...   \n",
      "...                                                    ...   \n",
      "1127653  https://www.crunchbase.com/organization/califo...   \n",
      "1127654  https://www.crunchbase.com/organization/all-pr...   \n",
      "1127655  https://www.crunchbase.com/organization/jeetk?...   \n",
      "1127656  https://www.crunchbase.com/organization/repsbr...   \n",
      "1127657  https://www.crunchbase.com/organization/eco-st...   \n",
      "\n",
      "                         domain                         homepage_url  \\\n",
      "0                  wetpaint.com             http://www.wetpaint.com/   \n",
      "1                      zoho.com                https://www.zoho.com/   \n",
      "2                      digg.com                  http://www.digg.com   \n",
      "3                  facebook.com              http://www.facebook.com   \n",
      "4                     accel.com                 http://www.accel.com   \n",
      "...                         ...                                  ...   \n",
      "1127653  calenergyexteriors.com  https://www.calenergyexteriors.com/   \n",
      "1127654         allpromedia.com             https://allpromedia.com/   \n",
      "1127655               jeetk.net                   https://jeetk.net/   \n",
      "1127656          repsbridge.com          https://www.repsbridge.com/   \n",
      "1127657         eco-stylist.com         https://www.eco-stylist.com/   \n",
      "\n",
      "                                                  logo_url  \\\n",
      "0        https://res.cloudinary.com/crunchbase-producti...   \n",
      "1        https://res.cloudinary.com/crunchbase-producti...   \n",
      "2        https://res.cloudinary.com/crunchbase-producti...   \n",
      "3        https://res.cloudinary.com/crunchbase-producti...   \n",
      "4        https://res.cloudinary.com/crunchbase-producti...   \n",
      "...                                                    ...   \n",
      "1127653  https://res.cloudinary.com/crunchbase-producti...   \n",
      "1127654  https://res.cloudinary.com/crunchbase-producti...   \n",
      "1127655  https://res.cloudinary.com/crunchbase-producti...   \n",
      "1127656  https://res.cloudinary.com/crunchbase-producti...   \n",
      "1127657  https://res.cloudinary.com/crunchbase-producti...   \n",
      "\n",
      "                                           facebook_url  \\\n",
      "0                     https://www.facebook.com/Wetpaint   \n",
      "1                          http://www.facebook.com/zoho   \n",
      "2                          http://www.facebook.com/digg   \n",
      "3                    https://www.facebook.com/facebook/   \n",
      "4                         http://www.facebook.com/accel   \n",
      "...                                                 ...   \n",
      "1127653  https://www.facebook.com/SuperCalEnergyForYou/   \n",
      "1127654            https://www.facebook.com/allpromedia   \n",
      "1127655                                             NaN   \n",
      "1127656             https://www.facebook.com/RepsBridge   \n",
      "1127657        https://www.facebook.com/yourecostylist/   \n",
      "\n",
      "                                      twitter_url  \\\n",
      "0                  https://twitter.com/wetpainttv   \n",
      "1                         http://twitter.com/zoho   \n",
      "2                         http://twitter.com/digg   \n",
      "3                    https://twitter.com/facebook   \n",
      "4                        http://twitter.com/accel   \n",
      "...                                           ...   \n",
      "1127653  https://www.twitter.com/@CalEnergyHeroes   \n",
      "1127654      https://www.twitter.com/@allpromedia   \n",
      "1127655                                       NaN   \n",
      "1127656            https://twitter.com/RepsBridge   \n",
      "1127657        https://twitter.com/yourecostylist   \n",
      "\n",
      "                                              linkedin_url  \\\n",
      "0                https://www.linkedin.com/company/wetpaint   \n",
      "1        http://www.linkedin.com/company/zoho-corporati...   \n",
      "2                     http://www.linkedin.com/company/digg   \n",
      "3                 http://www.linkedin.com/company/facebook   \n",
      "4               https://www.linkedin.com/company/accel-vc/   \n",
      "...                                                    ...   \n",
      "1127653  https://www.linkedin.com/company/california-en...   \n",
      "1127654    https://www.linkedin.com/company/all-pro-media/   \n",
      "1127655             https://www.linkedin.com/company/jeetk   \n",
      "1127656        https://www.linkedin.com/company/recsbridge   \n",
      "1127657       https://www.linkedin.com/company/eco-stylist   \n",
      "\n",
      "        combined_stock_symbols            city          region country_code  \\\n",
      "0                          NaN        New York        New York          USA   \n",
      "1                          NaN      Pleasanton      California          USA   \n",
      "2                          NaN        New York        New York          USA   \n",
      "3                    nasdaq:FB      Menlo Park      California          USA   \n",
      "4                          NaN       Palo Alto      California          USA   \n",
      "...                        ...             ...             ...          ...   \n",
      "1127653                    NaN  Rancho Cordova      California          USA   \n",
      "1127654                    NaN      Burlington  North Carolina          USA   \n",
      "1127655                    NaN           Karak        Al Karak          JOR   \n",
      "1127656                    NaN   San Francisco      California          USA   \n",
      "1127657                    NaN         Phoenix         Arizona          USA   \n",
      "\n",
      "                                         short_description  \n",
      "0        Wetpaint offers an online social publishing pl...  \n",
      "1        Zoho offers a suite of business, collaboration...  \n",
      "2        Digg Inc. operates a website that enables its ...  \n",
      "3        Facebook is an online social networking servic...  \n",
      "4        Accel is an early and growth-stage venture cap...  \n",
      "...                                                    ...  \n",
      "1127653  CECS specializes in high quality replacement w...  \n",
      "1127654  All Pro Media, Inc. provides video production,...  \n",
      "1127655                                      Delivery Food  \n",
      "1127656                                               SaaS  \n",
      "1127657  The trusted marketplace for stylish and sustai...  \n",
      "\n",
      "[1127657 rows x 16 columns]\n"
     ]
    }
   ],
   "source": [
    "df_Ac = df[(df[\"country_code\"] == \"USA\") & (df[\"name\"].str.startswith(\"Ac\"))& (df[\"primary_role\"]==\"company\")]\n",
    "print(df)"
   ]
  },
  {
   "cell_type": "code",
   "execution_count": 8,
   "id": "b91b5293-d439-4053-99de-5264c172b05e",
   "metadata": {},
   "outputs": [
    {
     "name": "stdout",
     "output_type": "stream",
     "text": [
      "Number of records: 2239\n",
      "First 5 records:\n",
      "                                      uuid                       name  \\\n",
      "186   ed54b2d5-f2f1-d4e9-9bbe-40961ff08d44              Action Engine   \n",
      "278   64a76f34-4e68-2eb6-d943-9465f39155cd               ActiveWorlds   \n",
      "1244  ef598b5b-d588-c21f-9b93-be78443f4e22                     Acquia   \n",
      "1879  135f427d-7f25-9492-1ffe-801b35b6b988  Academic Capital Exchange   \n",
      "2203  8b514862-2515-9a9a-768c-7f144a790863                 AccountNow   \n",
      "\n",
      "              type primary_role  \\\n",
      "186   organization      company   \n",
      "278   organization      company   \n",
      "1244  organization      company   \n",
      "1879  organization      company   \n",
      "2203  organization      company   \n",
      "\n",
      "                                                 cb_url              domain  \\\n",
      "186   https://www.crunchbase.com/organization/action...    actionengine.com   \n",
      "278   https://www.crunchbase.com/organization/active...    activeworlds.com   \n",
      "1244  https://www.crunchbase.com/organization/acquia...          acquia.com   \n",
      "1879  https://www.crunchbase.com/organization/academ...  academicapital.com   \n",
      "2203  https://www.crunchbase.com/organization/accoun...      accountnow.com   \n",
      "\n",
      "                       homepage_url  \\\n",
      "186     http://www.actionengine.com   \n",
      "278     http://www.activeworlds.com   \n",
      "1244              http://acquia.com   \n",
      "1879  http://www.academicapital.com   \n",
      "2203          http://accountnow.com   \n",
      "\n",
      "                                               logo_url  \\\n",
      "186   https://res.cloudinary.com/crunchbase-producti...   \n",
      "278   https://res.cloudinary.com/crunchbase-producti...   \n",
      "1244  https://res.cloudinary.com/crunchbase-producti...   \n",
      "1879  https://res.cloudinary.com/crunchbase-producti...   \n",
      "2203  https://res.cloudinary.com/crunchbase-producti...   \n",
      "\n",
      "                                facebook_url  \\\n",
      "186                                      NaN   \n",
      "278   http://www.facebook.com/activeworlds3d   \n",
      "1244          http://www.facebook.com/acquia   \n",
      "1879                                     NaN   \n",
      "2203      http://www.facebook.com/accountnow   \n",
      "\n",
      "                            twitter_url  \\\n",
      "186                                 NaN   \n",
      "278   http://twitter.com/activeworlds3d   \n",
      "1244          http://twitter.com/Acquia   \n",
      "1879                                NaN   \n",
      "2203      http://twitter.com/AccountNow   \n",
      "\n",
      "                                       linkedin_url combined_stock_symbols  \\\n",
      "186   https://www.linkedin.com/company/actionengine                    NaN   \n",
      "278                                             NaN                    NaN   \n",
      "1244         http://www.linkedin.com/company/167056                    NaN   \n",
      "1879                                            NaN                    NaN   \n",
      "2203     http://www.linkedin.com/company/accountnow                    NaN   \n",
      "\n",
      "             city         region country_code  \\\n",
      "186   Foster City     California          USA   \n",
      "278     Las Vegas         Nevada          USA   \n",
      "1244       Boston  Massachusetts          USA   \n",
      "1879      Chicago       Illinois          USA   \n",
      "2203    San Ramon     California          USA   \n",
      "\n",
      "                                      short_description  \n",
      "186   Action Engine is an agile software development...  \n",
      "278   Active Worlds is a 3D virtual reality platform...  \n",
      "1244  Acquia specializes in providing cloud-based di...  \n",
      "1879  Academic Capital Exchange (ACE), a peer-to-pee...  \n",
      "2203  AccountNow is a financial services company off...  \n"
     ]
    }
   ],
   "source": [
    "print(\"Number of records:\", df_Ac.shape[0])\n",
    "print(\"First 5 records:\")\n",
    "print(df_Ac.head())"
   ]
  },
  {
   "cell_type": "code",
   "execution_count": 9,
   "id": "8ab8f29b-b78b-449d-ac86-876fe9f3f6e4",
   "metadata": {},
   "outputs": [
    {
     "name": "stdout",
     "output_type": "stream",
     "text": [
      "Number of JSON objects: 2239\n"
     ]
    }
   ],
   "source": [
    "json_list = df_Ac.to_dict(orient=\"records\")\n",
    "print(\"Number of JSON objects:\", len(json_list))"
   ]
  },
  {
   "cell_type": "code",
   "execution_count": 10,
   "id": "233a3365-9816-42b0-a26e-7897cfeea697",
   "metadata": {},
   "outputs": [
    {
     "name": "stdout",
     "output_type": "stream",
     "text": [
      "First 5 JSON objects:\n"
     ]
    }
   ],
   "source": [
    "print(\"First 5 JSON objects:\")"
   ]
  },
  {
   "cell_type": "code",
   "execution_count": 11,
   "id": "3de24275-49d2-42a1-90a9-0741eb0cff5d",
   "metadata": {},
   "outputs": [
    {
     "name": "stdout",
     "output_type": "stream",
     "text": [
      "[{'uuid': 'ed54b2d5-f2f1-d4e9-9bbe-40961ff08d44', 'name': 'Action Engine', 'type': 'organization', 'primary_role': 'company', 'cb_url': 'https://www.crunchbase.com/organization/actionengine?utm_source=crunchbase&utm_medium=export&utm_campaign=odm_csv', 'domain': 'actionengine.com', 'homepage_url': 'http://www.actionengine.com', 'logo_url': 'https://res.cloudinary.com/crunchbase-production/image/upload/ubyv0j9it0vpkefruxr4', 'facebook_url': nan, 'twitter_url': nan, 'linkedin_url': 'https://www.linkedin.com/company/actionengine', 'combined_stock_symbols': nan, 'city': 'Foster City', 'region': 'California', 'country_code': 'USA', 'short_description': 'Action Engine is an agile software development, design and data services agency'}, {'uuid': '64a76f34-4e68-2eb6-d943-9465f39155cd', 'name': 'ActiveWorlds', 'type': 'organization', 'primary_role': 'company', 'cb_url': 'https://www.crunchbase.com/organization/activeworlds?utm_source=crunchbase&utm_medium=export&utm_campaign=odm_csv', 'domain': 'activeworlds.com', 'homepage_url': 'http://www.activeworlds.com', 'logo_url': 'https://res.cloudinary.com/crunchbase-production/image/upload/v1397180850/e53e7f472d5954396a2572c7d6548365.png', 'facebook_url': 'http://www.facebook.com/activeworlds3d', 'twitter_url': 'http://twitter.com/activeworlds3d', 'linkedin_url': nan, 'combined_stock_symbols': nan, 'city': 'Las Vegas', 'region': 'Nevada', 'country_code': 'USA', 'short_description': 'Active Worlds is a 3D virtual reality platform enabling users to build, enter and move about in worlds and interact with others.'}, {'uuid': 'ef598b5b-d588-c21f-9b93-be78443f4e22', 'name': 'Acquia', 'type': 'organization', 'primary_role': 'company', 'cb_url': 'https://www.crunchbase.com/organization/acquia?utm_source=crunchbase&utm_medium=export&utm_campaign=odm_csv', 'domain': 'acquia.com', 'homepage_url': 'http://acquia.com', 'logo_url': 'https://res.cloudinary.com/crunchbase-production/image/upload/rbjvr1i7q5w5f430iavw', 'facebook_url': 'http://www.facebook.com/acquia', 'twitter_url': 'http://twitter.com/Acquia', 'linkedin_url': 'http://www.linkedin.com/company/167056', 'combined_stock_symbols': nan, 'city': 'Boston', 'region': 'Massachusetts', 'country_code': 'USA', 'short_description': 'Acquia specializes in providing cloud-based digital experience management solutions.'}, {'uuid': '135f427d-7f25-9492-1ffe-801b35b6b988', 'name': 'Academic Capital Exchange', 'type': 'organization', 'primary_role': 'company', 'cb_url': 'https://www.crunchbase.com/organization/academic-capital-exchange?utm_source=crunchbase&utm_medium=export&utm_campaign=odm_csv', 'domain': 'academicapital.com', 'homepage_url': 'http://www.academicapital.com', 'logo_url': 'https://res.cloudinary.com/crunchbase-production/image/upload/v1397183889/5fe5afd0210d774cbb5b5061010fb9a0.jpg', 'facebook_url': nan, 'twitter_url': nan, 'linkedin_url': nan, 'combined_stock_symbols': nan, 'city': 'Chicago', 'region': 'Illinois', 'country_code': 'USA', 'short_description': 'Academic Capital Exchange (ACE), a peer-to-peer student loan marketplace, helps students obtain financial support and professional guidance.'}, {'uuid': '8b514862-2515-9a9a-768c-7f144a790863', 'name': 'AccountNow', 'type': 'organization', 'primary_role': 'company', 'cb_url': 'https://www.crunchbase.com/organization/accountnow?utm_source=crunchbase&utm_medium=export&utm_campaign=odm_csv', 'domain': 'accountnow.com', 'homepage_url': 'http://accountnow.com', 'logo_url': 'https://res.cloudinary.com/crunchbase-production/image/upload/v1411025947/wqodv1qyxoo4zq7jlnn2.png', 'facebook_url': 'http://www.facebook.com/accountnow', 'twitter_url': 'http://twitter.com/AccountNow', 'linkedin_url': 'http://www.linkedin.com/company/accountnow', 'combined_stock_symbols': nan, 'city': 'San Ramon', 'region': 'California', 'country_code': 'USA', 'short_description': 'AccountNow is a financial services company offering MasterCard and Visa prepaid accounts for people who have been turned away by banks.'}]\n"
     ]
    }
   ],
   "source": [
    "print(json_list[:5])"
   ]
  },
  {
   "cell_type": "code",
   "execution_count": 12,
   "id": "54eab3e0-4bb4-48eb-a9bc-717f0a1dd211",
   "metadata": {},
   "outputs": [],
   "source": [
    "with open(\"json_objects.txt\", \"w\") as f:\n",
    "    for obj in json_list:\n",
    "        f.write(json.dumps(obj) + \"\\n\")"
   ]
  },
  {
   "cell_type": "code",
   "execution_count": 13,
   "id": "4ab81cea-a427-44c5-9f3b-94c17e09336a",
   "metadata": {},
   "outputs": [],
   "source": [
    "with open(\"json_objects.txt\", \"r\") as f:\n",
    "    lines = f.readlines()\n",
    "    num_lines = len(lines)"
   ]
  },
  {
   "cell_type": "code",
   "execution_count": 14,
   "id": "10ea7a8d-6ae6-4294-951c-4b258b5a3753",
   "metadata": {},
   "outputs": [
    {
     "name": "stdout",
     "output_type": "stream",
     "text": [
      "Number of records in the text file: 2239\n"
     ]
    }
   ],
   "source": [
    "print(\"Number of records in the text file:\", num_lines)"
   ]
  },
  {
   "cell_type": "code",
   "execution_count": 21,
   "id": "c76c364a-a2af-4a28-9a2a-7c573be7ce52",
   "metadata": {},
   "outputs": [],
   "source": [
    "json_list = []\n",
    "with open(\"json_objects.txt\", \"r\") as f:\n",
    "    for line in f:\n",
    "        obj = json.loads(line)\n",
    "        json_list.append(obj)\n",
    "df2= pd.DataFrame(json_list)\n",
    "df_NY = df2[(df[\"city\"] == \"New York\")& (df[\"primary_role\"]==\"company\")]"
   ]
  },
  {
   "cell_type": "code",
   "execution_count": 22,
   "id": "d57f4ad5-92db-45b6-b1b7-64305a0f4177",
   "metadata": {},
   "outputs": [
    {
     "name": "stdout",
     "output_type": "stream",
     "text": [
      "Number of records: 114\n"
     ]
    }
   ],
   "source": [
    "print(\"Number of records:\", df_NY.shape[0])"
   ]
  },
  {
   "cell_type": "code",
   "execution_count": null,
   "id": "40490aa1-b182-4410-b970-e85a0b672863",
   "metadata": {},
   "outputs": [
    {
     "name": "stdout",
     "output_type": "stream",
     "text": [
      " * Serving Flask app \"__main__\" (lazy loading)\n",
      " * Environment: production\n",
      "\u001b[31m   WARNING: This is a development server. Do not use it in a production deployment.\u001b[0m\n",
      "\u001b[2m   Use a production WSGI server instead.\u001b[0m\n",
      " * Debug mode: off\n"
     ]
    },
    {
     "name": "stderr",
     "output_type": "stream",
     "text": [
      " * Running on http://127.0.0.1:5000/ (Press CTRL+C to quit)\n",
      "127.0.0.1 - - [12/Feb/2023 21:02:18] \"GET / HTTP/1.1\" 200 -\n",
      "127.0.0.1 - - [12/Feb/2023 21:02:18] \"GET /favicon.ico HTTP/1.1\" 404 -\n",
      "127.0.0.1 - - [12/Feb/2023 21:04:26] \"GET / HTTP/1.1\" 200 -\n"
     ]
    }
   ],
   "source": [
    "app = Flask(__name__)\n",
    "\n",
    "@app.route(\"/\")\n",
    "def companies():\n",
    "    return jsonify(json_list)\n",
    "\n",
    "if __name__ == '__main__':\n",
    "    app.run(debug = False)"
   ]
  },
  {
   "cell_type": "code",
   "execution_count": null,
   "id": "6b31b83b-fa11-40ff-92e0-0697f628216a",
   "metadata": {},
   "outputs": [],
   "source": []
  }
 ],
 "metadata": {
  "kernelspec": {
   "display_name": "Python 3 (ipykernel)",
   "language": "python",
   "name": "python3"
  },
  "language_info": {
   "codemirror_mode": {
    "name": "ipython",
    "version": 3
   },
   "file_extension": ".py",
   "mimetype": "text/x-python",
   "name": "python",
   "nbconvert_exporter": "python",
   "pygments_lexer": "ipython3",
   "version": "3.9.13"
  }
 },
 "nbformat": 4,
 "nbformat_minor": 5
}
